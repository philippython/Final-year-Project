{
 "cells": [
  {
   "cell_type": "code",
   "execution_count": 10,
   "id": "73b10106-4843-4b72-903a-faeb25163b91",
   "metadata": {},
   "outputs": [],
   "source": [
    "from pandas import *"
   ]
  },
  {
   "cell_type": "code",
   "execution_count": 11,
   "id": "21a179eb-af77-4b0e-b6a1-ecc989bfbc64",
   "metadata": {},
   "outputs": [
    {
     "data": {
      "text/html": [
       "<div>\n",
       "<style scoped>\n",
       "    .dataframe tbody tr th:only-of-type {\n",
       "        vertical-align: middle;\n",
       "    }\n",
       "\n",
       "    .dataframe tbody tr th {\n",
       "        vertical-align: top;\n",
       "    }\n",
       "\n",
       "    .dataframe thead th {\n",
       "        text-align: right;\n",
       "    }\n",
       "</style>\n",
       "<table border=\"1\" class=\"dataframe\">\n",
       "  <thead>\n",
       "    <tr style=\"text-align: right;\">\n",
       "      <th></th>\n",
       "      <th>aqi</th>\n",
       "      <th>date</th>\n",
       "      <th>location</th>\n",
       "      <th>state</th>\n",
       "      <th>region</th>\n",
       "      <th>carbon_monoxide</th>\n",
       "      <th>nitrogen_monoxide</th>\n",
       "      <th>nitrogen_dioxide</th>\n",
       "      <th>ozone</th>\n",
       "      <th>sulphur_dioxide</th>\n",
       "      <th>...</th>\n",
       "      <th>Kano State.1</th>\n",
       "      <th>North-West.1</th>\n",
       "      <th>1041.41</th>\n",
       "      <th>0.1</th>\n",
       "      <th>8.05</th>\n",
       "      <th>38.62</th>\n",
       "      <th>3.67</th>\n",
       "      <th>41.77</th>\n",
       "      <th>67.17</th>\n",
       "      <th>11.78</th>\n",
       "    </tr>\n",
       "  </thead>\n",
       "  <tbody>\n",
       "  </tbody>\n",
       "</table>\n",
       "<p>0 rows × 37 columns</p>\n",
       "</div>"
      ],
      "text/plain": [
       "Empty DataFrame\n",
       "Columns: [aqi, date, location, state, region, carbon_monoxide, nitrogen_monoxide, nitrogen_dioxide, ozone, sulphur_dioxide, fine_particles_matter, coarse_particulate_matter, ammonia2, 2023-06-01 00:00:00, Kano City, Kano State, North-West, 574.11, 0, 4.63, 25.39, 4.41, 19.44, 26.47, 2.183, 2023-06-01 00:00:00.1, Kano City.1, Kano State.1, North-West.1, 1041.41, 0.1, 8.05, 38.62, 3.67, 41.77, 67.17, 11.78]\n",
       "Index: []\n",
       "\n",
       "[0 rows x 37 columns]"
      ]
     },
     "execution_count": 11,
     "metadata": {},
     "output_type": "execute_result"
    }
   ],
   "source": [
    "dataset = read_csv(\"air_pollution_data.csv\")\n",
    "\n",
    "\n",
    "# creating a pandas dataframe object using dataset\n",
    "air_pollution_dataframe = DataFrame(dataset)\n",
    "air_pollution_dataframe.dropna()\n",
    "\n",
    "# "
   ]
  },
  {
   "cell_type": "code",
   "execution_count": null,
   "id": "d610f069-bab2-43ea-a202-320b599e36a6",
   "metadata": {},
   "outputs": [],
   "source": []
  },
  {
   "cell_type": "code",
   "execution_count": null,
   "id": "0895acaa",
   "metadata": {},
   "outputs": [],
   "source": []
  }
 ],
 "metadata": {
  "kernelspec": {
   "display_name": "Python 3 (ipykernel)",
   "language": "python",
   "name": "python3"
  },
  "language_info": {
   "codemirror_mode": {
    "name": "ipython",
    "version": 3
   },
   "file_extension": ".py",
   "mimetype": "text/x-python",
   "name": "python",
   "nbconvert_exporter": "python",
   "pygments_lexer": "ipython3",
   "version": "3.9.13"
  }
 },
 "nbformat": 4,
 "nbformat_minor": 5
}
